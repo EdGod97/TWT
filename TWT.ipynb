{
 "cells": [
  {
   "cell_type": "markdown",
   "metadata": {},
   "source": [
    "# Basic Operators and Input"
   ]
  },
  {
   "cell_type": "code",
   "execution_count": null,
   "metadata": {},
   "outputs": [],
   "source": [
    "a = 7\n",
    "b = 2\n",
    "\n",
    "print(a+b)\n",
    "print(a-b)\n",
    "print(a*b)\n",
    "print(a/b)\n",
    "print(a**b) # a pangkat b\n",
    "print(a//b) # a habis di bagi b tanpa koma\n",
    "print(a%b) # modulus sign = sisa pembagian dari a dibagi b"
   ]
  },
  {
   "cell_type": "code",
   "execution_count": 16,
   "metadata": {},
   "outputs": [
    {
     "name": "stdout",
     "output_type": "stream",
     "text": [
      "Pick a number: \n",
      "67\n",
      "Pick another number: \n",
      "56\n",
      "The result is 123\n"
     ]
    }
   ],
   "source": [
    "print('Pick a number: ')\n",
    "num1 = input()\n",
    "print(num1)\n",
    "print('Pick another number: ')\n",
    "num2 = input()\n",
    "print(num2)\n",
    "\n",
    "total = int(num1) + int(num2) # harus diubah ke dalam bentuk integer setelah sebelumnya string\n",
    "print('The result is', total)"
   ]
  },
  {
   "cell_type": "markdown",
   "metadata": {},
   "source": [
    "# Conditions"
   ]
  },
  {
   "cell_type": "code",
   "execution_count": 18,
   "metadata": {},
   "outputs": [
    {
     "name": "stdout",
     "output_type": "stream",
     "text": [
      "True\n",
      "False\n",
      "False\n",
      "True\n",
      "False\n"
     ]
    }
   ],
   "source": [
    "print(2 < 3)\n",
    "print(2 > 3)\n",
    "print(2 == 3)\n",
    "print(2 != 3)\n",
    "print('hello' == 'Hello')"
   ]
  },
  {
   "cell_type": "markdown",
   "metadata": {},
   "source": [
    "# IF/ELIF/ELSE"
   ]
  },
  {
   "cell_type": "code",
   "execution_count": 32,
   "metadata": {},
   "outputs": [
    {
     "name": "stdout",
     "output_type": "stream",
     "text": [
      "Your height is:  500\n",
      "what creature you are?\n"
     ]
    }
   ],
   "source": [
    "height = input(\"What is your height(cm) :\")\n",
    "# data type when input is a string\n",
    "\n",
    "if int(height) < 150: # convert to int\n",
    "    print('Your height is: ', height)\n",
    "    print('You can not ride')\n",
    "elif int(height) == 500 :\n",
    "    print('Your height is: ', height)\n",
    "    print('what creature you are?')\n",
    "elif int(height) > 200 :\n",
    "    print('Your height is: ', height)\n",
    "    print('Your can not ride, over 2m')\n",
    "else :\n",
    "    print('Your height is: ', height)\n",
    "    print('You can ride')"
   ]
  },
  {
   "cell_type": "markdown",
   "metadata": {},
   "source": [
    "# Chained Conditionals and Nested Statements"
   ]
  },
  {
   "cell_type": "code",
   "execution_count": 41,
   "metadata": {},
   "outputs": [
    {
     "name": "stdout",
     "output_type": "stream",
     "text": [
      "True\n",
      "True\n",
      "x = 2 , y = 3\n"
     ]
    }
   ],
   "source": [
    "x = 2\n",
    "y = 3\n",
    "\n",
    "if y == 3 and x + y == 5 :\n",
    "    print('True')\n",
    "else :\n",
    "    print('sorry')\n",
    "\n",
    "if y == 2 or x + y == 5:\n",
    "    print('True') \n",
    "else :\n",
    "    print('sorry')\n",
    "\n",
    "\n",
    "if x == 2:\n",
    "    if y == 3:\n",
    "        print('x =', x , ', y =', y)\n",
    "    else:\n",
    "        print('wrong answer')\n",
    "else :\n",
    "    print('Try Again')"
   ]
  },
  {
   "cell_type": "markdown",
   "metadata": {},
   "source": [
    "# For Loops"
   ]
  },
  {
   "cell_type": "code",
   "execution_count": 44,
   "metadata": {},
   "outputs": [
    {
     "name": "stdout",
     "output_type": "stream",
     "text": [
      "0\n",
      "5\n",
      "10\n",
      "15\n"
     ]
    }
   ],
   "source": [
    "for i in range(0,20,5): # start, stop, step\n",
    "    print(i)"
   ]
  },
  {
   "cell_type": "markdown",
   "metadata": {},
   "source": [
    "# While Loops"
   ]
  },
  {
   "cell_type": "code",
   "execution_count": 47,
   "metadata": {},
   "outputs": [],
   "source": [
    "loop = True\n",
    "\n",
    "while loop:\n",
    "    name = input(\"type something!\")\n",
    "    if name == 'stop':\n",
    "        loop = False # atau bisa menggunakan break"
   ]
  },
  {
   "cell_type": "markdown",
   "metadata": {},
   "source": [
    "# Lists and Tuples"
   ]
  },
  {
   "cell_type": "code",
   "execution_count": 51,
   "metadata": {},
   "outputs": [
    {
     "name": "stdout",
     "output_type": "stream",
     "text": [
      "<class 'list'>\n",
      "Pear\n",
      "['Apple', 'Pear']\n",
      "['Apple', 'Pear', 'Strawberry']\n",
      "<class 'tuple'>\n",
      "(1, 2, 3, 4)\n"
     ]
    }
   ],
   "source": [
    "fruits = ['Apple', 'Pear'] # list\n",
    "print(type(fruits))\n",
    "print(fruits[1])\n",
    "print(fruits)\n",
    "fruits.append('Strawberry')\n",
    "print(fruits)\n",
    "\n",
    "number = (1,2,3,4) # tuples\n",
    "print(type(number))\n",
    "print(number)\n"
   ]
  },
  {
   "cell_type": "markdown",
   "metadata": {},
   "source": [
    "# Iteration by Item (For Loops Continued...)"
   ]
  },
  {
   "cell_type": "code",
   "execution_count": 13,
   "metadata": {},
   "outputs": [
    {
     "name": "stdout",
     "output_type": "stream",
     "text": [
      "Not Pears\n",
      "pears\n",
      "Not Pears\n",
      "Not Pears\n",
      "Not Pears\n",
      "Not Pears\n",
      "Not Number\n",
      "Not Number\n",
      "Not Number\n",
      "3\n",
      "Not Number\n",
      "Not Number\n"
     ]
    }
   ],
   "source": [
    "fruits = ['apples', 'pears', 'strawberries', 3, 90, 75]\n",
    "\n",
    "for fruit in fruits :\n",
    "    if fruit == 'pears':\n",
    "        print(fruit)\n",
    "    else :\n",
    "        print('Not Pears')\n",
    "\n",
    "for x in range(len(fruits)):\n",
    "    if fruits[x] == 3:\n",
    "        print(fruits[x])\n",
    "    else:\n",
    "        print('Not Number')"
   ]
  },
  {
   "cell_type": "markdown",
   "metadata": {},
   "source": [
    "# String Methods"
   ]
  },
  {
   "cell_type": "code",
   "execution_count": 23,
   "metadata": {},
   "outputs": [
    {
     "name": "stdout",
     "output_type": "stream",
     "text": [
      "Lulut Lutfianto\n",
      "15\n",
      "lulut lutfianto\n",
      "LULUT LUTFIANTO\n",
      "['Lu', 'ut Lutfianto']\n"
     ]
    }
   ],
   "source": [
    "# .strip(), .len(), .lower(), .upper(), .split()\n",
    "\n",
    "text = input('Type something: ')\n",
    "\n",
    "print(text.strip())\n",
    "print(len(text))\n",
    "print(text.lower())\n",
    "print(text.upper())\n",
    "print(text.split('l')) # memisahkan ketika terdapat huruf a didalamnya"
   ]
  },
  {
   "cell_type": "markdown",
   "metadata": {},
   "source": [
    "# Slice Operator"
   ]
  },
  {
   "cell_type": "code",
   "execution_count": 58,
   "metadata": {},
   "outputs": [
    {
     "name": "stdout",
     "output_type": "stream",
     "text": [
      "Hloilk yhnvr uh\n",
      "['apples', 'pears', 'strawberries', 'a']\n"
     ]
    }
   ],
   "source": [
    "fruits = ['apples', 'pears', 'strawberries']\n",
    "text = 'Hello i like python very much'\n",
    "print(text[::2])\n",
    "\n",
    "fruits[3:3] = 'a' # harus sama indexnya\n",
    "print(fruits)\n"
   ]
  },
  {
   "cell_type": "markdown",
   "metadata": {},
   "source": [
    "# Functions"
   ]
  },
  {
   "cell_type": "code",
   "execution_count": 70,
   "metadata": {},
   "outputs": [
    {
     "name": "stdout",
     "output_type": "stream",
     "text": [
      "100\n",
      "12\n",
      "Hello\n",
      "My name is Lulut\n"
     ]
    },
    {
     "data": {
      "text/plain": [
       "10"
      ]
     },
     "execution_count": 70,
     "metadata": {},
     "output_type": "execute_result"
    }
   ],
   "source": [
    "def addTwo(x):\n",
    "    return (x + 2) ** 2\n",
    "\n",
    "def substractTwo(number):\n",
    "    return number + 2\n",
    "\n",
    "print(addTwo(8))\n",
    "print(substractTwo(10))\n",
    "\n",
    "def printString(string):\n",
    "    print(string)\n",
    "\n",
    "printString('Hello')\n",
    "printString('My name is Lulut')\n",
    "\n",
    "def accel(mass, force):\n",
    "    a = mass * force\n",
    "    return a\n",
    "accel(2,5)"
   ]
  },
  {
   "cell_type": "markdown",
   "metadata": {},
   "source": [
    "# How to Read a Text File"
   ]
  },
  {
   "cell_type": "code",
   "execution_count": 95,
   "metadata": {},
   "outputs": [
    {
     "name": "stdout",
     "output_type": "stream",
     "text": [
      "['python\\n', 'lulut\\n', 'bissmillah\\n', 'bisaa\\n', 'ayokkk']\n",
      "['python', 'lulut', 'bissmillah', 'bisaa', 'ayokkk']\n",
      "['python', 'lulut', 'bissmillah', 'bisaa', 'ayokkk']\n"
     ]
    }
   ],
   "source": [
    "file = open('new.txt', 'r')\n",
    "f = file.readlines()\n",
    "\n",
    "print(f)\n",
    "\n",
    "newwList = []\n",
    "for line in f:\n",
    "    newwList.append(line.strip())       # 1\n",
    "\n",
    "print(newwList)\n",
    "\n",
    "\n",
    "newList = []\n",
    "for line in f:\n",
    "    if line [-1] == '\\n':\n",
    "        newList.append(line[:-1])       # 2\n",
    "    else:\n",
    "        newList.append(line)\n",
    "\n",
    "print(newList)\n"
   ]
  }
 ],
 "metadata": {
  "kernelspec": {
   "display_name": "base",
   "language": "python",
   "name": "python3"
  },
  "language_info": {
   "codemirror_mode": {
    "name": "ipython",
    "version": 3
   },
   "file_extension": ".py",
   "mimetype": "text/x-python",
   "name": "python",
   "nbconvert_exporter": "python",
   "pygments_lexer": "ipython3",
   "version": "3.11.5"
  }
 },
 "nbformat": 4,
 "nbformat_minor": 2
}
